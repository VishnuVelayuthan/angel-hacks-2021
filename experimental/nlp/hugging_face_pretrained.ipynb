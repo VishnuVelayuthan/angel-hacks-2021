{
 "cells": [
  {
   "cell_type": "code",
   "execution_count": 1,
   "id": "worthy-desert",
   "metadata": {},
   "outputs": [],
   "source": [
    "import re\n",
    "import json\n",
    "import random\n",
    "\n",
    "import pandas as pd\n",
    "import numpy as np\n",
    "from pprint import pprint"
   ]
  },
  {
   "cell_type": "code",
   "execution_count": 2,
   "id": "outside-pasta",
   "metadata": {},
   "outputs": [],
   "source": [
    "chat_data = pd.read_csv(\n",
    "    \"https://raw.githubusercontent.com/nbertagnolli/counsel-chat/master/data/20200325_counsel_chat.csv\"\n",
    ")"
   ]
  },
  {
   "cell_type": "code",
   "execution_count": 3,
   "id": "identical-packaging",
   "metadata": {},
   "outputs": [
    {
     "data": {
      "text/html": [
       "<div>\n",
       "<style scoped>\n",
       "    .dataframe tbody tr th:only-of-type {\n",
       "        vertical-align: middle;\n",
       "    }\n",
       "\n",
       "    .dataframe tbody tr th {\n",
       "        vertical-align: top;\n",
       "    }\n",
       "\n",
       "    .dataframe thead th {\n",
       "        text-align: right;\n",
       "    }\n",
       "</style>\n",
       "<table border=\"1\" class=\"dataframe\">\n",
       "  <thead>\n",
       "    <tr style=\"text-align: right;\">\n",
       "      <th></th>\n",
       "      <th>Unnamed: 0</th>\n",
       "      <th>questionID</th>\n",
       "      <th>questionTitle</th>\n",
       "      <th>questionText</th>\n",
       "      <th>questionLink</th>\n",
       "      <th>topic</th>\n",
       "      <th>therapistInfo</th>\n",
       "      <th>therapistURL</th>\n",
       "      <th>answerText</th>\n",
       "      <th>upvotes</th>\n",
       "      <th>views</th>\n",
       "      <th>split</th>\n",
       "    </tr>\n",
       "  </thead>\n",
       "  <tbody>\n",
       "    <tr>\n",
       "      <th>0</th>\n",
       "      <td>0</td>\n",
       "      <td>0</td>\n",
       "      <td>Can I change my feeling of being worthless to ...</td>\n",
       "      <td>I'm going through some things with my feelings...</td>\n",
       "      <td>https://counselchat.com/questions/can-i-change...</td>\n",
       "      <td>depression</td>\n",
       "      <td>Sherry Katz, LCSWCouples and Family Therapist,...</td>\n",
       "      <td>https://counselchat.com/therapists/sherry-katz...</td>\n",
       "      <td>If everyone thinks you're worthless, then mayb...</td>\n",
       "      <td>1</td>\n",
       "      <td>2899</td>\n",
       "      <td>train</td>\n",
       "    </tr>\n",
       "    <tr>\n",
       "      <th>1</th>\n",
       "      <td>1</td>\n",
       "      <td>0</td>\n",
       "      <td>Can I change my feeling of being worthless to ...</td>\n",
       "      <td>I'm going through some things with my feelings...</td>\n",
       "      <td>https://counselchat.com/questions/can-i-change...</td>\n",
       "      <td>depression</td>\n",
       "      <td>Robin Landwehr, DBH, LPCC, NCCMental Health in...</td>\n",
       "      <td>https://counselchat.com/therapists/robin-landw...</td>\n",
       "      <td>Hello, and thank you for your question and see...</td>\n",
       "      <td>1</td>\n",
       "      <td>3514</td>\n",
       "      <td>train</td>\n",
       "    </tr>\n",
       "    <tr>\n",
       "      <th>2</th>\n",
       "      <td>2</td>\n",
       "      <td>0</td>\n",
       "      <td>Can I change my feeling of being worthless to ...</td>\n",
       "      <td>I'm going through some things with my feelings...</td>\n",
       "      <td>https://counselchat.com/questions/can-i-change...</td>\n",
       "      <td>depression</td>\n",
       "      <td>Lee KingI use an integrative approach to treat...</td>\n",
       "      <td>https://counselchat.com/therapists/lee-king</td>\n",
       "      <td>First thing I'd suggest is getting the sleep y...</td>\n",
       "      <td>0</td>\n",
       "      <td>5</td>\n",
       "      <td>train</td>\n",
       "    </tr>\n",
       "    <tr>\n",
       "      <th>3</th>\n",
       "      <td>3</td>\n",
       "      <td>0</td>\n",
       "      <td>Can I change my feeling of being worthless to ...</td>\n",
       "      <td>I'm going through some things with my feelings...</td>\n",
       "      <td>https://counselchat.com/questions/can-i-change...</td>\n",
       "      <td>depression</td>\n",
       "      <td>Shauntai Davis-YearginPersonalized, private on...</td>\n",
       "      <td>https://counselchat.com/therapists/shauntai-da...</td>\n",
       "      <td>Therapy is essential for those that are feelin...</td>\n",
       "      <td>0</td>\n",
       "      <td>31</td>\n",
       "      <td>train</td>\n",
       "    </tr>\n",
       "    <tr>\n",
       "      <th>4</th>\n",
       "      <td>4</td>\n",
       "      <td>0</td>\n",
       "      <td>Can I change my feeling of being worthless to ...</td>\n",
       "      <td>I'm going through some things with my feelings...</td>\n",
       "      <td>https://counselchat.com/questions/can-i-change...</td>\n",
       "      <td>depression</td>\n",
       "      <td>Jordan WhiteLicensed Social Worker at Oak Root...</td>\n",
       "      <td>https://counselchat.com/therapists/jordan-white</td>\n",
       "      <td>I first want to let you know that you are not ...</td>\n",
       "      <td>0</td>\n",
       "      <td>620</td>\n",
       "      <td>train</td>\n",
       "    </tr>\n",
       "    <tr>\n",
       "      <th>...</th>\n",
       "      <td>...</td>\n",
       "      <td>...</td>\n",
       "      <td>...</td>\n",
       "      <td>...</td>\n",
       "      <td>...</td>\n",
       "      <td>...</td>\n",
       "      <td>...</td>\n",
       "      <td>...</td>\n",
       "      <td>...</td>\n",
       "      <td>...</td>\n",
       "      <td>...</td>\n",
       "      <td>...</td>\n",
       "    </tr>\n",
       "    <tr>\n",
       "      <th>2124</th>\n",
       "      <td>2124</td>\n",
       "      <td>20</td>\n",
       "      <td>What happens in a counseling session?</td>\n",
       "      <td>After first meeting the client, what is the pr...</td>\n",
       "      <td>https://counselchat.com/questions/what-happens...</td>\n",
       "      <td>counseling-fundamentals</td>\n",
       "      <td>Victoria HaagFind direction for your life...</td>\n",
       "      <td>https://counselchat.com/therapists/victoria-haag</td>\n",
       "      <td>There are probably no two therapists alike bec...</td>\n",
       "      <td>0</td>\n",
       "      <td>45</td>\n",
       "      <td>train</td>\n",
       "    </tr>\n",
       "    <tr>\n",
       "      <th>2125</th>\n",
       "      <td>2125</td>\n",
       "      <td>20</td>\n",
       "      <td>What happens in a counseling session?</td>\n",
       "      <td>After first meeting the client, what is the pr...</td>\n",
       "      <td>https://counselchat.com/questions/what-happens...</td>\n",
       "      <td>counseling-fundamentals</td>\n",
       "      <td>Allison VelezIs your relationship worth it?</td>\n",
       "      <td>https://counselchat.com/therapists/allison-velez</td>\n",
       "      <td>Each counselor may have a different process, s...</td>\n",
       "      <td>0</td>\n",
       "      <td>37</td>\n",
       "      <td>train</td>\n",
       "    </tr>\n",
       "    <tr>\n",
       "      <th>2126</th>\n",
       "      <td>2126</td>\n",
       "      <td>20</td>\n",
       "      <td>What happens in a counseling session?</td>\n",
       "      <td>After first meeting the client, what is the pr...</td>\n",
       "      <td>https://counselchat.com/questions/what-happens...</td>\n",
       "      <td>counseling-fundamentals</td>\n",
       "      <td>David RouttPresident and Clinical Counselor at...</td>\n",
       "      <td>https://counselchat.com/therapists/david-routt</td>\n",
       "      <td>After meeting a client, many Counselors will a...</td>\n",
       "      <td>0</td>\n",
       "      <td>56</td>\n",
       "      <td>train</td>\n",
       "    </tr>\n",
       "    <tr>\n",
       "      <th>2127</th>\n",
       "      <td>2127</td>\n",
       "      <td>20</td>\n",
       "      <td>What happens in a counseling session?</td>\n",
       "      <td>After first meeting the client, what is the pr...</td>\n",
       "      <td>https://counselchat.com/questions/what-happens...</td>\n",
       "      <td>counseling-fundamentals</td>\n",
       "      <td>2nd Chance Counseling Service Online Addiction...</td>\n",
       "      <td>https://counselchat.com/therapists/2nd-chance-...</td>\n",
       "      <td>A good therapist will discuss what brought you...</td>\n",
       "      <td>0</td>\n",
       "      <td>27</td>\n",
       "      <td>train</td>\n",
       "    </tr>\n",
       "    <tr>\n",
       "      <th>2128</th>\n",
       "      <td>2128</td>\n",
       "      <td>20</td>\n",
       "      <td>What happens in a counseling session?</td>\n",
       "      <td>After first meeting the client, what is the pr...</td>\n",
       "      <td>https://counselchat.com/questions/what-happens...</td>\n",
       "      <td>counseling-fundamentals</td>\n",
       "      <td>Sherry Katz, LCSWCouples and Family Therapist,...</td>\n",
       "      <td>https://counselchat.com/therapists/sherry-katz...</td>\n",
       "      <td>Great question which I imagine many other peop...</td>\n",
       "      <td>0</td>\n",
       "      <td>25</td>\n",
       "      <td>train</td>\n",
       "    </tr>\n",
       "  </tbody>\n",
       "</table>\n",
       "<p>2129 rows × 12 columns</p>\n",
       "</div>"
      ],
      "text/plain": [
       "      Unnamed: 0  questionID  \\\n",
       "0              0           0   \n",
       "1              1           0   \n",
       "2              2           0   \n",
       "3              3           0   \n",
       "4              4           0   \n",
       "...          ...         ...   \n",
       "2124        2124          20   \n",
       "2125        2125          20   \n",
       "2126        2126          20   \n",
       "2127        2127          20   \n",
       "2128        2128          20   \n",
       "\n",
       "                                          questionTitle  \\\n",
       "0     Can I change my feeling of being worthless to ...   \n",
       "1     Can I change my feeling of being worthless to ...   \n",
       "2     Can I change my feeling of being worthless to ...   \n",
       "3     Can I change my feeling of being worthless to ...   \n",
       "4     Can I change my feeling of being worthless to ...   \n",
       "...                                                 ...   \n",
       "2124              What happens in a counseling session?   \n",
       "2125              What happens in a counseling session?   \n",
       "2126              What happens in a counseling session?   \n",
       "2127              What happens in a counseling session?   \n",
       "2128              What happens in a counseling session?   \n",
       "\n",
       "                                           questionText  \\\n",
       "0     I'm going through some things with my feelings...   \n",
       "1     I'm going through some things with my feelings...   \n",
       "2     I'm going through some things with my feelings...   \n",
       "3     I'm going through some things with my feelings...   \n",
       "4     I'm going through some things with my feelings...   \n",
       "...                                                 ...   \n",
       "2124  After first meeting the client, what is the pr...   \n",
       "2125  After first meeting the client, what is the pr...   \n",
       "2126  After first meeting the client, what is the pr...   \n",
       "2127  After first meeting the client, what is the pr...   \n",
       "2128  After first meeting the client, what is the pr...   \n",
       "\n",
       "                                           questionLink  \\\n",
       "0     https://counselchat.com/questions/can-i-change...   \n",
       "1     https://counselchat.com/questions/can-i-change...   \n",
       "2     https://counselchat.com/questions/can-i-change...   \n",
       "3     https://counselchat.com/questions/can-i-change...   \n",
       "4     https://counselchat.com/questions/can-i-change...   \n",
       "...                                                 ...   \n",
       "2124  https://counselchat.com/questions/what-happens...   \n",
       "2125  https://counselchat.com/questions/what-happens...   \n",
       "2126  https://counselchat.com/questions/what-happens...   \n",
       "2127  https://counselchat.com/questions/what-happens...   \n",
       "2128  https://counselchat.com/questions/what-happens...   \n",
       "\n",
       "                        topic  \\\n",
       "0                  depression   \n",
       "1                  depression   \n",
       "2                  depression   \n",
       "3                  depression   \n",
       "4                  depression   \n",
       "...                       ...   \n",
       "2124  counseling-fundamentals   \n",
       "2125  counseling-fundamentals   \n",
       "2126  counseling-fundamentals   \n",
       "2127  counseling-fundamentals   \n",
       "2128  counseling-fundamentals   \n",
       "\n",
       "                                          therapistInfo  \\\n",
       "0     Sherry Katz, LCSWCouples and Family Therapist,...   \n",
       "1     Robin Landwehr, DBH, LPCC, NCCMental Health in...   \n",
       "2     Lee KingI use an integrative approach to treat...   \n",
       "3     Shauntai Davis-YearginPersonalized, private on...   \n",
       "4     Jordan WhiteLicensed Social Worker at Oak Root...   \n",
       "...                                                 ...   \n",
       "2124       Victoria HaagFind direction for your life...   \n",
       "2125        Allison VelezIs your relationship worth it?   \n",
       "2126  David RouttPresident and Clinical Counselor at...   \n",
       "2127  2nd Chance Counseling Service Online Addiction...   \n",
       "2128  Sherry Katz, LCSWCouples and Family Therapist,...   \n",
       "\n",
       "                                           therapistURL  \\\n",
       "0     https://counselchat.com/therapists/sherry-katz...   \n",
       "1     https://counselchat.com/therapists/robin-landw...   \n",
       "2           https://counselchat.com/therapists/lee-king   \n",
       "3     https://counselchat.com/therapists/shauntai-da...   \n",
       "4       https://counselchat.com/therapists/jordan-white   \n",
       "...                                                 ...   \n",
       "2124   https://counselchat.com/therapists/victoria-haag   \n",
       "2125   https://counselchat.com/therapists/allison-velez   \n",
       "2126     https://counselchat.com/therapists/david-routt   \n",
       "2127  https://counselchat.com/therapists/2nd-chance-...   \n",
       "2128  https://counselchat.com/therapists/sherry-katz...   \n",
       "\n",
       "                                             answerText  upvotes  views  split  \n",
       "0     If everyone thinks you're worthless, then mayb...        1   2899  train  \n",
       "1     Hello, and thank you for your question and see...        1   3514  train  \n",
       "2     First thing I'd suggest is getting the sleep y...        0      5  train  \n",
       "3     Therapy is essential for those that are feelin...        0     31  train  \n",
       "4     I first want to let you know that you are not ...        0    620  train  \n",
       "...                                                 ...      ...    ...    ...  \n",
       "2124  There are probably no two therapists alike bec...        0     45  train  \n",
       "2125  Each counselor may have a different process, s...        0     37  train  \n",
       "2126  After meeting a client, many Counselors will a...        0     56  train  \n",
       "2127  A good therapist will discuss what brought you...        0     27  train  \n",
       "2128  Great question which I imagine many other peop...        0     25  train  \n",
       "\n",
       "[2129 rows x 12 columns]"
      ]
     },
     "execution_count": 3,
     "metadata": {},
     "output_type": "execute_result"
    }
   ],
   "source": [
    "chat_data"
   ]
  },
  {
   "cell_type": "markdown",
   "id": "received-content",
   "metadata": {},
   "source": [
    "# Transforming Data to Form for Hugging Face Model"
   ]
  },
  {
   "cell_type": "markdown",
   "id": "identified-moment",
   "metadata": {},
   "source": [
    "Form of data:  \n",
    "\n",
    "Each entry in personachat is a dict with two keys personality and utterances, the dataset is a list of entries:\n",
    "\n",
    "* personality:  list of strings containing the personality of the agent\n",
    "\n",
    "* utterances: list of dictionaries, each of which has two keys which are lists of strings.  \n",
    "    * candidates: [next_utterance_candidate_1, ..., next_utterance_candidate_19]\n",
    "        The last candidate is the ground truth response observed in the conversational data  \n",
    "    * history: [dialog_turn_0, ... dialog_turn N], where N is an odd number since the other user starts every conversation.  "
   ]
  },
  {
   "cell_type": "markdown",
   "id": "saving-month",
   "metadata": {},
   "source": [
    "Preprocessing:\n",
    "* Spaces before periods at end of sentences\n",
    "* everything lowercase"
   ]
  },
  {
   "cell_type": "markdown",
   "id": "intended-wheat",
   "metadata": {},
   "source": [
    "## Example Data Entry:\n",
    "\n",
    "```python\n",
    "EXAMPLE_ENTRY = {\n",
    "    \"personality\": [\n",
    "        \"i like to remodel homes .\",\n",
    "        \"i like to go hunting .\",\n",
    "        \"i like to shoot a bow .\",\n",
    "        \"my favorite holiday is halloween .\",\n",
    "    ],\n",
    "    \"utterances\": [\n",
    "        {\n",
    "            \"candidates\": [\n",
    "                \"my mom was single with 3 boys , so we never left the projects .\",\n",
    "                \"i try to wear all black every day . it makes me feel comfortable .\",\n",
    "                \"well nursing stresses you out so i wish luck with sister\",\n",
    "            ],\n",
    "            \"history\": [\n",
    "                \"hi , how are you doing ? i'm getting ready to do some cheetah chasing to stay in shape .\",\n",
    "            ],\n",
    "        },\n",
    "        \n",
    "        \n",
    "        {\n",
    "            \"candidates\": [\n",
    "                \"hello i am doing well how are you ?\",\n",
    "                \"ll something like that . do you play games ?\",\n",
    "                \"does anything give you relief ? i hate taking medicine \",\n",
    "            ],\n",
    "            \"history\": [\n",
    "                \"hi , how are you doing ? i'm getting ready to do some cheetah chasing to stay in shape .\",\n",
    "                \"you must be very fast . hunting is one of my favorite hobbies .\",\n",
    "                \"i am ! for my hobby i like to do canning or some whittling .\",\n",
    "            ],\n",
    "        },\n",
    "        \n",
    "        \n",
    "        {\n",
    "            \"candidates\": [\n",
    "                \"yes they do but i say no to them lol\",\n",
    "                \"i have trouble getting along with family .\",\n",
    "                \"i live in texas , what kind of stuff do you do in \",\n",
    "            ],\n",
    "            \"history\": [\n",
    "                \"hi , how are you doing ? i'm getting ready to do some cheetah chasing to stay in shape .\",\n",
    "                \"you must be very fast . hunting is one of my favorite hobbies .\",\n",
    "                \"i am ! for my hobby i like to do canning or some whittling .\",\n",
    "                \"i also remodel homes when i am not out bow hunting .\",\n",
    "                \"that's neat . when i was in high school i placed 6th in 100m dash !\",\n",
    "            ],\n",
    "        },\n",
    "    ],\n",
    "}\n",
    "```"
   ]
  },
  {
   "cell_type": "markdown",
   "id": "adolescent-highway",
   "metadata": {},
   "source": [
    "## Plan:\n",
    "\n",
    "- Will not use personality initially\n",
    "- history will just have the Q from the counsel-chat data"
   ]
  },
  {
   "cell_type": "code",
   "execution_count": 4,
   "id": "simplified-pattern",
   "metadata": {},
   "outputs": [
    {
     "data": {
      "text/plain": [
       "Unnamed: 0                                                       0\n",
       "questionID                                                       0\n",
       "questionTitle    Can I change my feeling of being worthless to ...\n",
       "questionText     I'm going through some things with my feelings...\n",
       "questionLink     https://counselchat.com/questions/can-i-change...\n",
       "topic                                                   depression\n",
       "therapistInfo    Sherry Katz, LCSWCouples and Family Therapist,...\n",
       "therapistURL     https://counselchat.com/therapists/sherry-katz...\n",
       "answerText       If everyone thinks you're worthless, then mayb...\n",
       "upvotes                                                          1\n",
       "views                                                         2899\n",
       "split                                                        train\n",
       "Name: 0, dtype: object"
      ]
     },
     "execution_count": 4,
     "metadata": {},
     "output_type": "execute_result"
    }
   ],
   "source": [
    "chat_data.iloc[0]"
   ]
  },
  {
   "cell_type": "code",
   "execution_count": 5,
   "id": "suspected-yemen",
   "metadata": {},
   "outputs": [
    {
     "data": {
      "text/html": [
       "<div>\n",
       "<style scoped>\n",
       "    .dataframe tbody tr th:only-of-type {\n",
       "        vertical-align: middle;\n",
       "    }\n",
       "\n",
       "    .dataframe tbody tr th {\n",
       "        vertical-align: top;\n",
       "    }\n",
       "\n",
       "    .dataframe thead th {\n",
       "        text-align: right;\n",
       "    }\n",
       "</style>\n",
       "<table border=\"1\" class=\"dataframe\">\n",
       "  <thead>\n",
       "    <tr style=\"text-align: right;\">\n",
       "      <th></th>\n",
       "      <th>questionTitle</th>\n",
       "      <th>questionText</th>\n",
       "      <th>answerText</th>\n",
       "      <th>upvotes</th>\n",
       "      <th>views</th>\n",
       "    </tr>\n",
       "  </thead>\n",
       "  <tbody>\n",
       "    <tr>\n",
       "      <th>0</th>\n",
       "      <td>Can I change my feeling of being worthless to ...</td>\n",
       "      <td>I'm going through some things with my feelings...</td>\n",
       "      <td>If everyone thinks you're worthless, then mayb...</td>\n",
       "      <td>1</td>\n",
       "      <td>2899</td>\n",
       "    </tr>\n",
       "    <tr>\n",
       "      <th>1</th>\n",
       "      <td>Can I change my feeling of being worthless to ...</td>\n",
       "      <td>I'm going through some things with my feelings...</td>\n",
       "      <td>Hello, and thank you for your question and see...</td>\n",
       "      <td>1</td>\n",
       "      <td>3514</td>\n",
       "    </tr>\n",
       "    <tr>\n",
       "      <th>2</th>\n",
       "      <td>Can I change my feeling of being worthless to ...</td>\n",
       "      <td>I'm going through some things with my feelings...</td>\n",
       "      <td>First thing I'd suggest is getting the sleep y...</td>\n",
       "      <td>0</td>\n",
       "      <td>5</td>\n",
       "    </tr>\n",
       "    <tr>\n",
       "      <th>3</th>\n",
       "      <td>Can I change my feeling of being worthless to ...</td>\n",
       "      <td>I'm going through some things with my feelings...</td>\n",
       "      <td>Therapy is essential for those that are feelin...</td>\n",
       "      <td>0</td>\n",
       "      <td>31</td>\n",
       "    </tr>\n",
       "    <tr>\n",
       "      <th>4</th>\n",
       "      <td>Can I change my feeling of being worthless to ...</td>\n",
       "      <td>I'm going through some things with my feelings...</td>\n",
       "      <td>I first want to let you know that you are not ...</td>\n",
       "      <td>0</td>\n",
       "      <td>620</td>\n",
       "    </tr>\n",
       "    <tr>\n",
       "      <th>...</th>\n",
       "      <td>...</td>\n",
       "      <td>...</td>\n",
       "      <td>...</td>\n",
       "      <td>...</td>\n",
       "      <td>...</td>\n",
       "    </tr>\n",
       "    <tr>\n",
       "      <th>2124</th>\n",
       "      <td>What happens in a counseling session?</td>\n",
       "      <td>After first meeting the client, what is the pr...</td>\n",
       "      <td>There are probably no two therapists alike bec...</td>\n",
       "      <td>0</td>\n",
       "      <td>45</td>\n",
       "    </tr>\n",
       "    <tr>\n",
       "      <th>2125</th>\n",
       "      <td>What happens in a counseling session?</td>\n",
       "      <td>After first meeting the client, what is the pr...</td>\n",
       "      <td>Each counselor may have a different process, s...</td>\n",
       "      <td>0</td>\n",
       "      <td>37</td>\n",
       "    </tr>\n",
       "    <tr>\n",
       "      <th>2126</th>\n",
       "      <td>What happens in a counseling session?</td>\n",
       "      <td>After first meeting the client, what is the pr...</td>\n",
       "      <td>After meeting a client, many Counselors will a...</td>\n",
       "      <td>0</td>\n",
       "      <td>56</td>\n",
       "    </tr>\n",
       "    <tr>\n",
       "      <th>2127</th>\n",
       "      <td>What happens in a counseling session?</td>\n",
       "      <td>After first meeting the client, what is the pr...</td>\n",
       "      <td>A good therapist will discuss what brought you...</td>\n",
       "      <td>0</td>\n",
       "      <td>27</td>\n",
       "    </tr>\n",
       "    <tr>\n",
       "      <th>2128</th>\n",
       "      <td>What happens in a counseling session?</td>\n",
       "      <td>After first meeting the client, what is the pr...</td>\n",
       "      <td>Great question which I imagine many other peop...</td>\n",
       "      <td>0</td>\n",
       "      <td>25</td>\n",
       "    </tr>\n",
       "  </tbody>\n",
       "</table>\n",
       "<p>2129 rows × 5 columns</p>\n",
       "</div>"
      ],
      "text/plain": [
       "                                          questionTitle  \\\n",
       "0     Can I change my feeling of being worthless to ...   \n",
       "1     Can I change my feeling of being worthless to ...   \n",
       "2     Can I change my feeling of being worthless to ...   \n",
       "3     Can I change my feeling of being worthless to ...   \n",
       "4     Can I change my feeling of being worthless to ...   \n",
       "...                                                 ...   \n",
       "2124              What happens in a counseling session?   \n",
       "2125              What happens in a counseling session?   \n",
       "2126              What happens in a counseling session?   \n",
       "2127              What happens in a counseling session?   \n",
       "2128              What happens in a counseling session?   \n",
       "\n",
       "                                           questionText  \\\n",
       "0     I'm going through some things with my feelings...   \n",
       "1     I'm going through some things with my feelings...   \n",
       "2     I'm going through some things with my feelings...   \n",
       "3     I'm going through some things with my feelings...   \n",
       "4     I'm going through some things with my feelings...   \n",
       "...                                                 ...   \n",
       "2124  After first meeting the client, what is the pr...   \n",
       "2125  After first meeting the client, what is the pr...   \n",
       "2126  After first meeting the client, what is the pr...   \n",
       "2127  After first meeting the client, what is the pr...   \n",
       "2128  After first meeting the client, what is the pr...   \n",
       "\n",
       "                                             answerText  upvotes  views  \n",
       "0     If everyone thinks you're worthless, then mayb...        1   2899  \n",
       "1     Hello, and thank you for your question and see...        1   3514  \n",
       "2     First thing I'd suggest is getting the sleep y...        0      5  \n",
       "3     Therapy is essential for those that are feelin...        0     31  \n",
       "4     I first want to let you know that you are not ...        0    620  \n",
       "...                                                 ...      ...    ...  \n",
       "2124  There are probably no two therapists alike bec...        0     45  \n",
       "2125  Each counselor may have a different process, s...        0     37  \n",
       "2126  After meeting a client, many Counselors will a...        0     56  \n",
       "2127  A good therapist will discuss what brought you...        0     27  \n",
       "2128  Great question which I imagine many other peop...        0     25  \n",
       "\n",
       "[2129 rows x 5 columns]"
      ]
     },
     "execution_count": 5,
     "metadata": {},
     "output_type": "execute_result"
    }
   ],
   "source": [
    "chat_data = chat_data[[\"questionTitle\", \"questionText\", \"answerText\", \"upvotes\", \"views\"]]\n",
    "chat_data"
   ]
  },
  {
   "cell_type": "code",
   "execution_count": 6,
   "id": "instrumental-worcester",
   "metadata": {},
   "outputs": [],
   "source": [
    "questions = chat_data[\"questionTitle\"].copy() + \" \" + chat_data[\"questionText\"].copy()"
   ]
  },
  {
   "cell_type": "code",
   "execution_count": 7,
   "id": "understanding-shell",
   "metadata": {},
   "outputs": [
    {
     "data": {
      "text/html": [
       "<div>\n",
       "<style scoped>\n",
       "    .dataframe tbody tr th:only-of-type {\n",
       "        vertical-align: middle;\n",
       "    }\n",
       "\n",
       "    .dataframe tbody tr th {\n",
       "        vertical-align: top;\n",
       "    }\n",
       "\n",
       "    .dataframe thead th {\n",
       "        text-align: right;\n",
       "    }\n",
       "</style>\n",
       "<table border=\"1\" class=\"dataframe\">\n",
       "  <thead>\n",
       "    <tr style=\"text-align: right;\">\n",
       "      <th></th>\n",
       "      <th>upvotes</th>\n",
       "      <th>views</th>\n",
       "      <th>question</th>\n",
       "      <th>answer</th>\n",
       "    </tr>\n",
       "  </thead>\n",
       "  <tbody>\n",
       "    <tr>\n",
       "      <th>0</th>\n",
       "      <td>1</td>\n",
       "      <td>2899</td>\n",
       "      <td>Can I change my feeling of being worthless to ...</td>\n",
       "      <td>If everyone thinks you're worthless, then mayb...</td>\n",
       "    </tr>\n",
       "    <tr>\n",
       "      <th>1</th>\n",
       "      <td>1</td>\n",
       "      <td>3514</td>\n",
       "      <td>Can I change my feeling of being worthless to ...</td>\n",
       "      <td>Hello, and thank you for your question and see...</td>\n",
       "    </tr>\n",
       "    <tr>\n",
       "      <th>2</th>\n",
       "      <td>0</td>\n",
       "      <td>5</td>\n",
       "      <td>Can I change my feeling of being worthless to ...</td>\n",
       "      <td>First thing I'd suggest is getting the sleep y...</td>\n",
       "    </tr>\n",
       "    <tr>\n",
       "      <th>3</th>\n",
       "      <td>0</td>\n",
       "      <td>31</td>\n",
       "      <td>Can I change my feeling of being worthless to ...</td>\n",
       "      <td>Therapy is essential for those that are feelin...</td>\n",
       "    </tr>\n",
       "    <tr>\n",
       "      <th>4</th>\n",
       "      <td>0</td>\n",
       "      <td>620</td>\n",
       "      <td>Can I change my feeling of being worthless to ...</td>\n",
       "      <td>I first want to let you know that you are not ...</td>\n",
       "    </tr>\n",
       "    <tr>\n",
       "      <th>...</th>\n",
       "      <td>...</td>\n",
       "      <td>...</td>\n",
       "      <td>...</td>\n",
       "      <td>...</td>\n",
       "    </tr>\n",
       "    <tr>\n",
       "      <th>2124</th>\n",
       "      <td>0</td>\n",
       "      <td>45</td>\n",
       "      <td>What happens in a counseling session? After fi...</td>\n",
       "      <td>There are probably no two therapists alike bec...</td>\n",
       "    </tr>\n",
       "    <tr>\n",
       "      <th>2125</th>\n",
       "      <td>0</td>\n",
       "      <td>37</td>\n",
       "      <td>What happens in a counseling session? After fi...</td>\n",
       "      <td>Each counselor may have a different process, s...</td>\n",
       "    </tr>\n",
       "    <tr>\n",
       "      <th>2126</th>\n",
       "      <td>0</td>\n",
       "      <td>56</td>\n",
       "      <td>What happens in a counseling session? After fi...</td>\n",
       "      <td>After meeting a client, many Counselors will a...</td>\n",
       "    </tr>\n",
       "    <tr>\n",
       "      <th>2127</th>\n",
       "      <td>0</td>\n",
       "      <td>27</td>\n",
       "      <td>What happens in a counseling session? After fi...</td>\n",
       "      <td>A good therapist will discuss what brought you...</td>\n",
       "    </tr>\n",
       "    <tr>\n",
       "      <th>2128</th>\n",
       "      <td>0</td>\n",
       "      <td>25</td>\n",
       "      <td>What happens in a counseling session? After fi...</td>\n",
       "      <td>Great question which I imagine many other peop...</td>\n",
       "    </tr>\n",
       "  </tbody>\n",
       "</table>\n",
       "<p>2129 rows × 4 columns</p>\n",
       "</div>"
      ],
      "text/plain": [
       "      upvotes  views                                           question  \\\n",
       "0           1   2899  Can I change my feeling of being worthless to ...   \n",
       "1           1   3514  Can I change my feeling of being worthless to ...   \n",
       "2           0      5  Can I change my feeling of being worthless to ...   \n",
       "3           0     31  Can I change my feeling of being worthless to ...   \n",
       "4           0    620  Can I change my feeling of being worthless to ...   \n",
       "...       ...    ...                                                ...   \n",
       "2124        0     45  What happens in a counseling session? After fi...   \n",
       "2125        0     37  What happens in a counseling session? After fi...   \n",
       "2126        0     56  What happens in a counseling session? After fi...   \n",
       "2127        0     27  What happens in a counseling session? After fi...   \n",
       "2128        0     25  What happens in a counseling session? After fi...   \n",
       "\n",
       "                                                 answer  \n",
       "0     If everyone thinks you're worthless, then mayb...  \n",
       "1     Hello, and thank you for your question and see...  \n",
       "2     First thing I'd suggest is getting the sleep y...  \n",
       "3     Therapy is essential for those that are feelin...  \n",
       "4     I first want to let you know that you are not ...  \n",
       "...                                                 ...  \n",
       "2124  There are probably no two therapists alike bec...  \n",
       "2125  Each counselor may have a different process, s...  \n",
       "2126  After meeting a client, many Counselors will a...  \n",
       "2127  A good therapist will discuss what brought you...  \n",
       "2128  Great question which I imagine many other peop...  \n",
       "\n",
       "[2129 rows x 4 columns]"
      ]
     },
     "execution_count": 7,
     "metadata": {},
     "output_type": "execute_result"
    }
   ],
   "source": [
    "chat_data = chat_data.assign(question=questions)\n",
    "chat_data[\"answer\"] = chat_data[\"answerText\"]\n",
    "chat_data.drop(labels=[\"questionTitle\", \"questionText\", \"answerText\"], axis=1, inplace=True)\n",
    "chat_data"
   ]
  },
  {
   "cell_type": "markdown",
   "id": "interim-contractor",
   "metadata": {},
   "source": [
    "Adding metric to determine the true response:  \n",
    "\n",
    "$$score = 50 * upvotes + views$$"
   ]
  },
  {
   "cell_type": "code",
   "execution_count": 8,
   "id": "religious-album",
   "metadata": {},
   "outputs": [
    {
     "data": {
      "text/html": [
       "<div>\n",
       "<style scoped>\n",
       "    .dataframe tbody tr th:only-of-type {\n",
       "        vertical-align: middle;\n",
       "    }\n",
       "\n",
       "    .dataframe tbody tr th {\n",
       "        vertical-align: top;\n",
       "    }\n",
       "\n",
       "    .dataframe thead th {\n",
       "        text-align: right;\n",
       "    }\n",
       "</style>\n",
       "<table border=\"1\" class=\"dataframe\">\n",
       "  <thead>\n",
       "    <tr style=\"text-align: right;\">\n",
       "      <th></th>\n",
       "      <th>question</th>\n",
       "      <th>answer</th>\n",
       "      <th>score</th>\n",
       "    </tr>\n",
       "  </thead>\n",
       "  <tbody>\n",
       "    <tr>\n",
       "      <th>0</th>\n",
       "      <td>Can I change my feeling of being worthless to ...</td>\n",
       "      <td>If everyone thinks you're worthless, then mayb...</td>\n",
       "      <td>2949</td>\n",
       "    </tr>\n",
       "    <tr>\n",
       "      <th>1</th>\n",
       "      <td>Can I change my feeling of being worthless to ...</td>\n",
       "      <td>Hello, and thank you for your question and see...</td>\n",
       "      <td>3564</td>\n",
       "    </tr>\n",
       "    <tr>\n",
       "      <th>2</th>\n",
       "      <td>Can I change my feeling of being worthless to ...</td>\n",
       "      <td>First thing I'd suggest is getting the sleep y...</td>\n",
       "      <td>5</td>\n",
       "    </tr>\n",
       "    <tr>\n",
       "      <th>3</th>\n",
       "      <td>Can I change my feeling of being worthless to ...</td>\n",
       "      <td>Therapy is essential for those that are feelin...</td>\n",
       "      <td>31</td>\n",
       "    </tr>\n",
       "    <tr>\n",
       "      <th>4</th>\n",
       "      <td>Can I change my feeling of being worthless to ...</td>\n",
       "      <td>I first want to let you know that you are not ...</td>\n",
       "      <td>620</td>\n",
       "    </tr>\n",
       "    <tr>\n",
       "      <th>...</th>\n",
       "      <td>...</td>\n",
       "      <td>...</td>\n",
       "      <td>...</td>\n",
       "    </tr>\n",
       "    <tr>\n",
       "      <th>2124</th>\n",
       "      <td>What happens in a counseling session? After fi...</td>\n",
       "      <td>There are probably no two therapists alike bec...</td>\n",
       "      <td>45</td>\n",
       "    </tr>\n",
       "    <tr>\n",
       "      <th>2125</th>\n",
       "      <td>What happens in a counseling session? After fi...</td>\n",
       "      <td>Each counselor may have a different process, s...</td>\n",
       "      <td>37</td>\n",
       "    </tr>\n",
       "    <tr>\n",
       "      <th>2126</th>\n",
       "      <td>What happens in a counseling session? After fi...</td>\n",
       "      <td>After meeting a client, many Counselors will a...</td>\n",
       "      <td>56</td>\n",
       "    </tr>\n",
       "    <tr>\n",
       "      <th>2127</th>\n",
       "      <td>What happens in a counseling session? After fi...</td>\n",
       "      <td>A good therapist will discuss what brought you...</td>\n",
       "      <td>27</td>\n",
       "    </tr>\n",
       "    <tr>\n",
       "      <th>2128</th>\n",
       "      <td>What happens in a counseling session? After fi...</td>\n",
       "      <td>Great question which I imagine many other peop...</td>\n",
       "      <td>25</td>\n",
       "    </tr>\n",
       "  </tbody>\n",
       "</table>\n",
       "<p>2129 rows × 3 columns</p>\n",
       "</div>"
      ],
      "text/plain": [
       "                                               question  \\\n",
       "0     Can I change my feeling of being worthless to ...   \n",
       "1     Can I change my feeling of being worthless to ...   \n",
       "2     Can I change my feeling of being worthless to ...   \n",
       "3     Can I change my feeling of being worthless to ...   \n",
       "4     Can I change my feeling of being worthless to ...   \n",
       "...                                                 ...   \n",
       "2124  What happens in a counseling session? After fi...   \n",
       "2125  What happens in a counseling session? After fi...   \n",
       "2126  What happens in a counseling session? After fi...   \n",
       "2127  What happens in a counseling session? After fi...   \n",
       "2128  What happens in a counseling session? After fi...   \n",
       "\n",
       "                                                 answer  score  \n",
       "0     If everyone thinks you're worthless, then mayb...   2949  \n",
       "1     Hello, and thank you for your question and see...   3564  \n",
       "2     First thing I'd suggest is getting the sleep y...      5  \n",
       "3     Therapy is essential for those that are feelin...     31  \n",
       "4     I first want to let you know that you are not ...    620  \n",
       "...                                                 ...    ...  \n",
       "2124  There are probably no two therapists alike bec...     45  \n",
       "2125  Each counselor may have a different process, s...     37  \n",
       "2126  After meeting a client, many Counselors will a...     56  \n",
       "2127  A good therapist will discuss what brought you...     27  \n",
       "2128  Great question which I imagine many other peop...     25  \n",
       "\n",
       "[2129 rows x 3 columns]"
      ]
     },
     "execution_count": 8,
     "metadata": {},
     "output_type": "execute_result"
    }
   ],
   "source": [
    "chat_data[\"score\"] = 50 * chat_data[\"upvotes\"] + chat_data[\"views\"]\n",
    "chat_data.drop([\"upvotes\", \"views\"], axis=1, inplace=True)\n",
    "chat_data"
   ]
  },
  {
   "cell_type": "markdown",
   "id": "restricted-tunnel",
   "metadata": {},
   "source": [
    "# Preprocessing Data"
   ]
  },
  {
   "cell_type": "markdown",
   "id": "looking-newcastle",
   "metadata": {},
   "source": [
    "## String Format\n",
    "### On Test String"
   ]
  },
  {
   "cell_type": "code",
   "execution_count": 51,
   "id": "temporal-attack",
   "metadata": {
    "collapsed": true,
    "jupyter": {
     "outputs_hidden": true,
     "source_hidden": true
    }
   },
   "outputs": [
    {
     "data": {
      "text/plain": [
       "\"can i change my feeling of being worthless to everyone?\\xa0 i'm going /through some\\\\ things with my feelings and myself. i barely sleep and i do nothing but think about how i'm worthless and how i shouldn't be here.\\n   i've never tried or contemplated suicide. i've always wanted to fix my issues, but i never get around to it.\\n   how can i change my feeling of being worthless to everyone?\""
      ]
     },
     "execution_count": 51,
     "metadata": {},
     "output_type": "execute_result"
    }
   ],
   "source": [
    "test_str = \"can i change my feeling of being worthless to everyone?\\xa0 i'm going /through some\\\\ things with my feelings and myself. i barely sleep and i do nothing but think about how i'm worthless and how i shouldn't be here.\\n   i've never tried or contemplated suicide. i've always wanted to fix my issues, but i never get around to it.\\n   how can i change my feeling of being worthless to everyone?\"\n",
    "test_str"
   ]
  },
  {
   "cell_type": "code",
   "execution_count": 53,
   "id": "velvet-villa",
   "metadata": {
    "collapsed": true,
    "jupyter": {
     "outputs_hidden": true,
     "source_hidden": true
    }
   },
   "outputs": [
    {
     "data": {
      "text/plain": [
       "\"can i change my feeling of being worthless to everyone ? i'm going through some things with my feelings and myself . i barely sleep and i do nothing but think about how i'm worthless and how i shouldn't be here . i've never tried or contemplated suicide . i've always wanted to fix my issues , but i never get around to it . how can i change my feeling of being worthless to everyone ? \""
      ]
     },
     "execution_count": 53,
     "metadata": {},
     "output_type": "execute_result"
    }
   ],
   "source": [
    "test_str = test_str.lower()\n",
    "test_str = re.sub(r\"(\\xa0)|(\\n)|(\\\\)|(/)\", \" \", test_str)\n",
    "test_str = re.sub(\"(\\.|\\?|\\!|,)\", \" \\g<1> \", test_str)\n",
    "test_str = re.sub(\" {2,}\", \" \", test_str)\n",
    "\n",
    "test_str"
   ]
  },
  {
   "cell_type": "markdown",
   "id": "rolled-award",
   "metadata": {},
   "source": [
    "### On Actual Data"
   ]
  },
  {
   "cell_type": "code",
   "execution_count": 9,
   "id": "differential-norfolk",
   "metadata": {},
   "outputs": [],
   "source": [
    "def preprocess_data(input_str):\n",
    "    input_str = input_str.lower()\n",
    "    input_str = re.sub(r\"(\\xa0)|(\\n)|(\\\\)|(/)\", \" \", input_str)\n",
    "    input_str = re.sub(\"(\\.|\\?|\\!|,)\", \" \\g<1> \", input_str)\n",
    "    input_str = re.sub(\" {2,}\", \" \", input_str)\n",
    "    return input_str"
   ]
  },
  {
   "cell_type": "code",
   "execution_count": 10,
   "id": "interpreted-jonathan",
   "metadata": {},
   "outputs": [],
   "source": [
    "chat_data[\"question\"] = chat_data[\"question\"].apply(preprocess_data)\n",
    "chat_data[\"answer\"] = chat_data[\"answer\"].apply(preprocess_data)"
   ]
  },
  {
   "cell_type": "code",
   "execution_count": 11,
   "id": "discrete-infrared",
   "metadata": {},
   "outputs": [
    {
     "data": {
      "text/html": [
       "<div>\n",
       "<style scoped>\n",
       "    .dataframe tbody tr th:only-of-type {\n",
       "        vertical-align: middle;\n",
       "    }\n",
       "\n",
       "    .dataframe tbody tr th {\n",
       "        vertical-align: top;\n",
       "    }\n",
       "\n",
       "    .dataframe thead th {\n",
       "        text-align: right;\n",
       "    }\n",
       "</style>\n",
       "<table border=\"1\" class=\"dataframe\">\n",
       "  <thead>\n",
       "    <tr style=\"text-align: right;\">\n",
       "      <th></th>\n",
       "      <th>question</th>\n",
       "      <th>answer</th>\n",
       "      <th>score</th>\n",
       "    </tr>\n",
       "  </thead>\n",
       "  <tbody>\n",
       "    <tr>\n",
       "      <th>0</th>\n",
       "      <td>can i change my feeling of being worthless to ...</td>\n",
       "      <td>if everyone thinks you're worthless , then may...</td>\n",
       "      <td>2949</td>\n",
       "    </tr>\n",
       "    <tr>\n",
       "      <th>1</th>\n",
       "      <td>can i change my feeling of being worthless to ...</td>\n",
       "      <td>hello , and thank you for your question and se...</td>\n",
       "      <td>3564</td>\n",
       "    </tr>\n",
       "    <tr>\n",
       "      <th>2</th>\n",
       "      <td>can i change my feeling of being worthless to ...</td>\n",
       "      <td>first thing i'd suggest is getting the sleep y...</td>\n",
       "      <td>5</td>\n",
       "    </tr>\n",
       "    <tr>\n",
       "      <th>3</th>\n",
       "      <td>can i change my feeling of being worthless to ...</td>\n",
       "      <td>therapy is essential for those that are feelin...</td>\n",
       "      <td>31</td>\n",
       "    </tr>\n",
       "    <tr>\n",
       "      <th>4</th>\n",
       "      <td>can i change my feeling of being worthless to ...</td>\n",
       "      <td>i first want to let you know that you are not ...</td>\n",
       "      <td>620</td>\n",
       "    </tr>\n",
       "    <tr>\n",
       "      <th>...</th>\n",
       "      <td>...</td>\n",
       "      <td>...</td>\n",
       "      <td>...</td>\n",
       "    </tr>\n",
       "    <tr>\n",
       "      <th>2124</th>\n",
       "      <td>what happens in a counseling session ? after f...</td>\n",
       "      <td>there are probably no two therapists alike bec...</td>\n",
       "      <td>45</td>\n",
       "    </tr>\n",
       "    <tr>\n",
       "      <th>2125</th>\n",
       "      <td>what happens in a counseling session ? after f...</td>\n",
       "      <td>each counselor may have a different process , ...</td>\n",
       "      <td>37</td>\n",
       "    </tr>\n",
       "    <tr>\n",
       "      <th>2126</th>\n",
       "      <td>what happens in a counseling session ? after f...</td>\n",
       "      <td>after meeting a client , many counselors will ...</td>\n",
       "      <td>56</td>\n",
       "    </tr>\n",
       "    <tr>\n",
       "      <th>2127</th>\n",
       "      <td>what happens in a counseling session ? after f...</td>\n",
       "      <td>a good therapist will discuss what brought you...</td>\n",
       "      <td>27</td>\n",
       "    </tr>\n",
       "    <tr>\n",
       "      <th>2128</th>\n",
       "      <td>what happens in a counseling session ? after f...</td>\n",
       "      <td>great question which i imagine many other peop...</td>\n",
       "      <td>25</td>\n",
       "    </tr>\n",
       "  </tbody>\n",
       "</table>\n",
       "<p>2129 rows × 3 columns</p>\n",
       "</div>"
      ],
      "text/plain": [
       "                                               question  \\\n",
       "0     can i change my feeling of being worthless to ...   \n",
       "1     can i change my feeling of being worthless to ...   \n",
       "2     can i change my feeling of being worthless to ...   \n",
       "3     can i change my feeling of being worthless to ...   \n",
       "4     can i change my feeling of being worthless to ...   \n",
       "...                                                 ...   \n",
       "2124  what happens in a counseling session ? after f...   \n",
       "2125  what happens in a counseling session ? after f...   \n",
       "2126  what happens in a counseling session ? after f...   \n",
       "2127  what happens in a counseling session ? after f...   \n",
       "2128  what happens in a counseling session ? after f...   \n",
       "\n",
       "                                                 answer  score  \n",
       "0     if everyone thinks you're worthless , then may...   2949  \n",
       "1     hello , and thank you for your question and se...   3564  \n",
       "2     first thing i'd suggest is getting the sleep y...      5  \n",
       "3     therapy is essential for those that are feelin...     31  \n",
       "4     i first want to let you know that you are not ...    620  \n",
       "...                                                 ...    ...  \n",
       "2124  there are probably no two therapists alike bec...     45  \n",
       "2125  each counselor may have a different process , ...     37  \n",
       "2126  after meeting a client , many counselors will ...     56  \n",
       "2127  a good therapist will discuss what brought you...     27  \n",
       "2128  great question which i imagine many other peop...     25  \n",
       "\n",
       "[2129 rows x 3 columns]"
      ]
     },
     "execution_count": 11,
     "metadata": {},
     "output_type": "execute_result"
    }
   ],
   "source": [
    "chat_data"
   ]
  },
  {
   "cell_type": "markdown",
   "id": "altered-import",
   "metadata": {},
   "source": [
    "## Clipping the Data to Max Length\n",
    "  \n",
    "TODO: clip at last sentence under max length instead of just a hard stop."
   ]
  },
  {
   "cell_type": "code",
   "execution_count": 14,
   "id": "prime-george",
   "metadata": {},
   "outputs": [
    {
     "data": {
      "text/plain": [
       "511"
      ]
     },
     "execution_count": 14,
     "metadata": {},
     "output_type": "execute_result"
    },
    {
     "data": {
      "text/plain": [
       "512"
      ]
     },
     "execution_count": 14,
     "metadata": {},
     "output_type": "execute_result"
    }
   ],
   "source": [
    "MAX_LEN = 250\n",
    "chat_data[\"question\"].apply(len).max()\n",
    "chat_data[\"answer\"].apply(len).max()"
   ]
  },
  {
   "cell_type": "code",
   "execution_count": 15,
   "id": "operating-picture",
   "metadata": {},
   "outputs": [
    {
     "data": {
      "text/plain": [
       "250"
      ]
     },
     "execution_count": 15,
     "metadata": {},
     "output_type": "execute_result"
    },
    {
     "data": {
      "text/plain": [
       "250"
      ]
     },
     "execution_count": 15,
     "metadata": {},
     "output_type": "execute_result"
    }
   ],
   "source": [
    "chat_data[\"question\"] = chat_data[\"question\"].apply(lambda q: q[:MAX_LEN] if len(q) > MAX_LEN else q)\n",
    "chat_data[\"answer\"] = chat_data[\"answer\"].apply(lambda q: q[:MAX_LEN] if len(q) > MAX_LEN else q)\n",
    "\n",
    "chat_data[\"question\"].apply(len).max()\n",
    "chat_data[\"answer\"].apply(len).max()"
   ]
  },
  {
   "cell_type": "markdown",
   "id": "graduate-bahamas",
   "metadata": {},
   "source": [
    "## Reshaping Data"
   ]
  },
  {
   "cell_type": "markdown",
   "id": "painted-wisconsin",
   "metadata": {},
   "source": [
    "### On Test Data"
   ]
  },
  {
   "cell_type": "code",
   "execution_count": 10,
   "id": "registered-wallpaper",
   "metadata": {
    "collapsed": true,
    "jupyter": {
     "outputs_hidden": true,
     "source_hidden": true
    }
   },
   "outputs": [
    {
     "data": {
      "text/plain": [
       "{0: [{'q': 'q1'}, {'a': 'ans1'}, {'s': 's1'}],\n",
       " 1: [{'q': 'q1'}, {'a': 'ans2'}, {'s': 's2'}],\n",
       " 2: [{'q': 'q2'}, {'a': 'ans1'}, {'s': 's3'}]}"
      ]
     },
     "execution_count": 10,
     "metadata": {},
     "output_type": "execute_result"
    }
   ],
   "source": [
    "test = {0 : [{\"q\": \"q1\"}, {\"a\": \"ans1\"}, {\"s\": \"s1\"}], 1: [{\"q\": \"q1\"}, {\"a\": \"ans2\"}, {\"s\": \"s2\"}], 2 : [{\"q\": \"q2\"}, {\"a\": \"ans1\"}, {\"s\": \"s3\"}]}\n",
    "\n",
    "test"
   ]
  },
  {
   "cell_type": "code",
   "execution_count": 11,
   "id": "bound-sigma",
   "metadata": {
    "collapsed": true,
    "jupyter": {
     "outputs_hidden": true,
     "source_hidden": true
    }
   },
   "outputs": [
    {
     "data": {
      "text/plain": [
       "[['q1', 'ans1', 's1'], ['q1', 'ans2', 's2'], ['q2', 'ans1', 's3']]"
      ]
     },
     "execution_count": 11,
     "metadata": {},
     "output_type": "execute_result"
    }
   ],
   "source": [
    "df_array = []\n",
    "for example in list(test.values()):\n",
    "    df_array.append([list(dict_pair.values())[0] for dict_pair in example])\n",
    "    \n",
    "df_array"
   ]
  },
  {
   "cell_type": "code",
   "execution_count": 100,
   "id": "configured-sixth",
   "metadata": {
    "collapsed": true,
    "jupyter": {
     "outputs_hidden": true,
     "source_hidden": true
    }
   },
   "outputs": [
    {
     "data": {
      "text/plain": [
       "array([['q1', 'ans1', 's1'],\n",
       "       ['q1', 'ans2', 's2'],\n",
       "       ['q2', 'ans1', 's3']], dtype='<U4')"
      ]
     },
     "execution_count": 100,
     "metadata": {},
     "output_type": "execute_result"
    },
    {
     "data": {
      "text/plain": [
       "(3, 3)"
      ]
     },
     "execution_count": 100,
     "metadata": {},
     "output_type": "execute_result"
    }
   ],
   "source": [
    "df_array = np.array(df_array)\n",
    "df_array\n",
    "df_array.shape"
   ]
  },
  {
   "cell_type": "code",
   "execution_count": 103,
   "id": "meaningful-camel",
   "metadata": {
    "collapsed": true,
    "jupyter": {
     "outputs_hidden": true,
     "source_hidden": true
    }
   },
   "outputs": [
    {
     "data": {
      "text/plain": [
       "{'q1', 'q2'}"
      ]
     },
     "execution_count": 103,
     "metadata": {},
     "output_type": "execute_result"
    }
   ],
   "source": [
    "unique_questions = set(df_array[:,0])\n",
    "unique_questions"
   ]
  },
  {
   "cell_type": "code",
   "execution_count": 131,
   "id": "driven-excuse",
   "metadata": {
    "collapsed": true,
    "jupyter": {
     "outputs_hidden": true,
     "source_hidden": true
    }
   },
   "outputs": [
    {
     "data": {
      "text/plain": [
       "[[{'q': 'q1'}, {'a': 'ans1'}, {'s': 's1'}],\n",
       " [{'q': 'q1'}, {'a': 'ans2'}, {'s': 's2'}],\n",
       " [{'q': 'q2'}, {'a': 'ans1'}, {'s': 's3'}]]"
      ]
     },
     "execution_count": 131,
     "metadata": {},
     "output_type": "execute_result"
    }
   ],
   "source": [
    "list(test.values())"
   ]
  },
  {
   "cell_type": "markdown",
   "id": "compound-purple",
   "metadata": {},
   "source": [
    "### On Actual Data"
   ]
  },
  {
   "cell_type": "code",
   "execution_count": 16,
   "id": "subject-disability",
   "metadata": {},
   "outputs": [],
   "source": [
    "df_dict = list(chat_data.to_dict(\"index\").values())\n",
    "\n",
    "df_array = []\n",
    "for example in df_dict:\n",
    "    df_array.append([value for value in example.values()])"
   ]
  },
  {
   "cell_type": "code",
   "execution_count": 17,
   "id": "important-remedy",
   "metadata": {},
   "outputs": [
    {
     "data": {
      "text/plain": [
       "(2129, 3)"
      ]
     },
     "execution_count": 17,
     "metadata": {},
     "output_type": "execute_result"
    }
   ],
   "source": [
    "df_array = np.array(df_array)\n",
    "df_array.shape"
   ]
  },
  {
   "cell_type": "code",
   "execution_count": 18,
   "id": "unknown-vertical",
   "metadata": {},
   "outputs": [
    {
     "data": {
      "text/plain": [
       "824"
      ]
     },
     "execution_count": 18,
     "metadata": {},
     "output_type": "execute_result"
    }
   ],
   "source": [
    "unique_questions = list(set(df_array[:,0]))\n",
    "random.shuffle(unique_questions)\n",
    "len(unique_questions)"
   ]
  },
  {
   "cell_type": "code",
   "execution_count": 19,
   "id": "operating-fetish",
   "metadata": {},
   "outputs": [],
   "source": [
    "for q in unique_questions:\n",
    "    if len(q) > MAX_LEN:\n",
    "        print(len(q))"
   ]
  },
  {
   "cell_type": "markdown",
   "id": "correct-excerpt",
   "metadata": {},
   "source": [
    "### Testing On Actual Data"
   ]
  },
  {
   "cell_type": "code",
   "execution_count": 232,
   "id": "regulated-fifteen",
   "metadata": {
    "collapsed": true,
    "jupyter": {
     "outputs_hidden": true,
     "source_hidden": true
    }
   },
   "outputs": [
    {
     "data": {
      "text/plain": [
       "\"my toddler wants her daddy to die when she's mad at him i told her that if daddy dies , we will never see him again . she started crying because i wouldn't make her daddy die . \""
      ]
     },
     "execution_count": 232,
     "metadata": {},
     "output_type": "execute_result"
    },
    {
     "data": {
      "text/html": [
       "<div>\n",
       "<style scoped>\n",
       "    .dataframe tbody tr th:only-of-type {\n",
       "        vertical-align: middle;\n",
       "    }\n",
       "\n",
       "    .dataframe tbody tr th {\n",
       "        vertical-align: top;\n",
       "    }\n",
       "\n",
       "    .dataframe thead th {\n",
       "        text-align: right;\n",
       "    }\n",
       "</style>\n",
       "<table border=\"1\" class=\"dataframe\">\n",
       "  <thead>\n",
       "    <tr style=\"text-align: right;\">\n",
       "      <th></th>\n",
       "      <th>answer</th>\n",
       "      <th>score</th>\n",
       "    </tr>\n",
       "  </thead>\n",
       "  <tbody>\n",
       "    <tr>\n",
       "      <th>688</th>\n",
       "      <td>children often have a difficult time expressin...</td>\n",
       "      <td>381</td>\n",
       "    </tr>\n",
       "    <tr>\n",
       "      <th>689</th>\n",
       "      <td>toddlers don't have the intellectual capacity ...</td>\n",
       "      <td>119</td>\n",
       "    </tr>\n",
       "    <tr>\n",
       "      <th>690</th>\n",
       "      <td>it's normal for a child to be so angry she wan...</td>\n",
       "      <td>226</td>\n",
       "    </tr>\n",
       "  </tbody>\n",
       "</table>\n",
       "</div>"
      ],
      "text/plain": [
       "                                                answer  score\n",
       "688  children often have a difficult time expressin...    381\n",
       "689  toddlers don't have the intellectual capacity ...    119\n",
       "690  it's normal for a child to be so angry she wan...    226"
      ]
     },
     "execution_count": 232,
     "metadata": {},
     "output_type": "execute_result"
    }
   ],
   "source": [
    "unique_questions[1]\n",
    "chat_data[chat_data[\"question\"] == unique_questions[1]][[\"answer\", \"score\"]]"
   ]
  },
  {
   "cell_type": "code",
   "execution_count": 233,
   "id": "average-tension",
   "metadata": {
    "collapsed": true,
    "jupyter": {
     "outputs_hidden": true,
     "source_hidden": true
    }
   },
   "outputs": [],
   "source": [
    "answers = chat_data[chat_data[\"question\"] == unique_questions[1]][[\"answer\", \"score\"]]\n",
    "answers = answers.sample(frac=1)\n",
    "max_idx = answers[\"score\"].idxmax()\n",
    "answers = answers[\"answer\"]\n",
    "true_ans = answers.loc[max_idx]\n",
    "answers = answers.drop(max_idx).tolist() + [true_ans]"
   ]
  },
  {
   "cell_type": "code",
   "execution_count": 234,
   "id": "moderate-brush",
   "metadata": {
    "collapsed": true,
    "jupyter": {
     "outputs_hidden": true,
     "source_hidden": true
    }
   },
   "outputs": [
    {
     "data": {
      "text/plain": [
       "[\"it's normal for a child to be so angry she wanted someone to die , but this seems to be heading into a dangerous realm . i think it would be wise to have her seen by a child psychologist just to rule out anything more serious . \",\n",
       " \"toddlers don't have the intellectual capacity to conceptualize . better to find out why she wants daddy to die than explain the future consequences of death to your toddler . a person must be around 9 , possibly 8 years old before absorbing the potential effects of an action taken in present time . pretty much your toddler demonstrated to you here age appropriate and limited understanding of the loss of a parent , by crying that you weren't able to magically make her father disappear . also , please pay attention and form your own opinions as to the reasons why your toddler would wish her father's death . she may be pointing out that the father behaves in frightening or harmful ways towards her . \",\n",
       " \"children often have a difficult time expressing emotions accurately . it is also very likely that your daughter does not understand the permanence of death . having said that , she is using some very specific ideas here and i would recommend contacting a local mental health professional with some experience working with children . i would also wonder where she is getting this idea . sometimes children hear things on tv or from an adult and we are not even aware of how much they are remembering . it may be helpful to teach her things that she can do when she is angry , like say that she is mad because she cannot have the toy that she is asking for . i'm curious as to how long it is that she stays mad like this and whether she talks to her dad after she is no longer angry . does she say the same sorts of things about you ? it may also be helpful for you to work with a mental health professional (possibly the same one who is working with your daughter) so that you can have some support with this as well . \"]"
      ]
     },
     "execution_count": 234,
     "metadata": {},
     "output_type": "execute_result"
    },
    {
     "data": {
      "text/plain": [
       "3"
      ]
     },
     "execution_count": 234,
     "metadata": {},
     "output_type": "execute_result"
    }
   ],
   "source": [
    "answers\n",
    "len(answers)"
   ]
  },
  {
   "cell_type": "markdown",
   "id": "frank-routine",
   "metadata": {},
   "source": [
    "## Transforming Into Needed Data Shape"
   ]
  },
  {
   "cell_type": "code",
   "execution_count": 20,
   "id": "incoming-degree",
   "metadata": {},
   "outputs": [],
   "source": [
    "df_full = []\n",
    "\n",
    "for q in unique_questions:\n",
    "#     answers = chat_data[chat_data[\"question\"] == q][\"answer\"].tolist()\n",
    "    answers = chat_data[chat_data[\"question\"] == q][[\"answer\", \"score\"]]\n",
    "    answers = answers.sample(frac=1)\n",
    "    max_idx = answers[\"score\"].idxmax()\n",
    "    answers = answers[\"answer\"]\n",
    "    true_ans = answers.loc[max_idx]\n",
    "    answers = answers.drop(max_idx).tolist() + [true_ans]\n",
    "    \n",
    "    df_full.append(\n",
    "        {\n",
    "            \"personality\" : [],\n",
    "            \"utterances\": [\n",
    "                {\"candidates\": answers, \"history\": [q]}\n",
    "            ]\n",
    "        }\n",
    "    )"
   ]
  },
  {
   "cell_type": "code",
   "execution_count": 21,
   "id": "polyphonic-handy",
   "metadata": {},
   "outputs": [
    {
     "name": "stdout",
     "output_type": "stream",
     "text": [
      "['you wrote a very full family context w many directions to examine . do you know or can you find out what the grandma and your daughter were doing in the evening of the screaming episode ? is it possible the grandma abuses your daughter , or tells her']\n"
     ]
    }
   ],
   "source": [
    "print(df_full[0][\"utterances\"][0][\"candidates\"])"
   ]
  },
  {
   "cell_type": "code",
   "execution_count": 22,
   "id": "neutral-academy",
   "metadata": {},
   "outputs": [],
   "source": [
    "# check to make sure data isn't too long\n",
    "for entry in df_full:\n",
    "    example = entry[\"utterances\"][0]\n",
    "    for candidate in example[\"candidates\"]:\n",
    "        if len(candidate) > MAX_LEN:\n",
    "            print(\"\\n\\n\\ncandidate:\", candidate)\n",
    "    for question in example[\"history\"]:\n",
    "        if len(question) > MAX_LEN:\n",
    "            print(\"\\n\\nquestion:\", question)"
   ]
  },
  {
   "cell_type": "markdown",
   "id": "difficult-trustee",
   "metadata": {},
   "source": [
    "## Train Test Split"
   ]
  },
  {
   "cell_type": "code",
   "execution_count": 23,
   "id": "lonely-devices",
   "metadata": {},
   "outputs": [],
   "source": [
    "TRAIN_PCT = 0.8\n",
    "train = df_full[:int(len(df_full) * 0.8)]\n",
    "val = df_full[int(len(df_full) * 0.8):]"
   ]
  },
  {
   "cell_type": "code",
   "execution_count": 24,
   "id": "funded-shopping",
   "metadata": {},
   "outputs": [],
   "source": [
    "df_final = {\"train\": train, \"valid\": val}"
   ]
  },
  {
   "cell_type": "markdown",
   "id": "scenic-profit",
   "metadata": {},
   "source": [
    "## Save to JSON"
   ]
  },
  {
   "cell_type": "markdown",
   "id": "strong-casino",
   "metadata": {},
   "source": [
    "### Testing On Test Data"
   ]
  },
  {
   "cell_type": "code",
   "execution_count": 82,
   "id": "geographic-sleep",
   "metadata": {
    "jupyter": {
     "source_hidden": true
    }
   },
   "outputs": [],
   "source": [
    "EXAMPLE_ENTRY = {\n",
    "    \"personality\": [\n",
    "        \"i like to remodel homes .\",\n",
    "        \"i like to go hunting .\",\n",
    "        \"i like to shoot a bow .\",\n",
    "        \"my favorite holiday is halloween .\",\n",
    "    ],\n",
    "    \"utterances\": [\n",
    "        {\n",
    "            \"candidates\": [\n",
    "                \"my mom was single with 3 boys , so we never left the projects .\",\n",
    "                \"i try to wear all black every day . it makes me feel comfortable .\",\n",
    "                \"well nursing stresses you out so i wish luck with sister\",\n",
    "            ],\n",
    "            \"history\": [\n",
    "                \"hi , how are you doing ? i'm getting ready to do some cheetah chasing to stay in shape .\",\n",
    "            ],\n",
    "        },\n",
    "        \n",
    "        \n",
    "        {\n",
    "            \"candidates\": [\n",
    "                \"hello i am doing well how are you ?\",\n",
    "                \"ll something like that . do you play games ?\",\n",
    "                \"does anything give you relief ? i hate taking medicine \",\n",
    "            ],\n",
    "            \"history\": [\n",
    "                \"hi , how are you doing ? i'm getting ready to do some cheetah chasing to stay in shape .\",\n",
    "                \"you must be very fast . hunting is one of my favorite hobbies .\",\n",
    "                \"i am ! for my hobby i like to do canning or some whittling .\",\n",
    "            ],\n",
    "        },\n",
    "        \n",
    "        \n",
    "        {\n",
    "            \"candidates\": [\n",
    "                \"yes they do but i say no to them lol\",\n",
    "                \"i have trouble getting along with family .\",\n",
    "                \"i live in texas , what kind of stuff do you do in \",\n",
    "            ],\n",
    "            \"history\": [\n",
    "                \"hi , how are you doing ? i'm getting ready to do some cheetah chasing to stay in shape .\",\n",
    "                \"you must be very fast . hunting is one of my favorite hobbies .\",\n",
    "                \"i am ! for my hobby i like to do canning or some whittling .\",\n",
    "                \"i also remodel homes when i am not out bow hunting .\",\n",
    "                \"that's neat . when i was in high school i placed 6th in 100m dash !\",\n",
    "            ],\n",
    "        },\n",
    "    ],\n",
    "}"
   ]
  },
  {
   "cell_type": "code",
   "execution_count": 83,
   "id": "turkish-eating",
   "metadata": {
    "collapsed": true,
    "jupyter": {
     "outputs_hidden": true,
     "source_hidden": true
    }
   },
   "outputs": [
    {
     "data": {
      "text/plain": [
       "'{\"train\": [{\"personality\": [\"i like to remodel homes .\", \"i like to go hunting .\", \"i like to shoot a bow .\", \"my favorite holiday is halloween .\"], \"utterances\": [{\"candidates\": [\"my mom was single with 3 boys , so we never left the projects .\", \"i try to wear all black every day . it makes me feel comfortable .\", \"well nursing stresses you out so i wish luck with sister\"], \"history\": [\"hi , how are you doing ? i\\'m getting ready to do some cheetah chasing to stay in shape .\"]}, {\"candidates\": [\"hello i am doing well how are you ?\", \"ll something like that . do you play games ?\", \"does anything give you relief ? i hate taking medicine \"], \"history\": [\"hi , how are you doing ? i\\'m getting ready to do some cheetah chasing to stay in shape .\", \"you must be very fast . hunting is one of my favorite hobbies .\", \"i am ! for my hobby i like to do canning or some whittling .\"]}, {\"candidates\": [\"yes they do but i say no to them lol\", \"i have trouble getting along with family .\", \"i live in texas , what kind of stuff do you do in \"], \"history\": [\"hi , how are you doing ? i\\'m getting ready to do some cheetah chasing to stay in shape .\", \"you must be very fast . hunting is one of my favorite hobbies .\", \"i am ! for my hobby i like to do canning or some whittling .\", \"i also remodel homes when i am not out bow hunting .\", \"that\\'s neat . when i was in high school i placed 6th in 100m dash !\"]}]}, {\"personality\": [\"i like to remodel homes .\", \"i like to go hunting .\", \"i like to shoot a bow .\", \"my favorite holiday is halloween .\"], \"utterances\": [{\"candidates\": [\"my mom was single with 3 boys , so we never left the projects .\", \"i try to wear all black every day . it makes me feel comfortable .\", \"well nursing stresses you out so i wish luck with sister\"], \"history\": [\"hi , how are you doing ? i\\'m getting ready to do some cheetah chasing to stay in shape .\"]}, {\"candidates\": [\"hello i am doing well how are you ?\", \"ll something like that . do you play games ?\", \"does anything give you relief ? i hate taking medicine \"], \"history\": [\"hi , how are you doing ? i\\'m getting ready to do some cheetah chasing to stay in shape .\", \"you must be very fast . hunting is one of my favorite hobbies .\", \"i am ! for my hobby i like to do canning or some whittling .\"]}, {\"candidates\": [\"yes they do but i say no to them lol\", \"i have trouble getting along with family .\", \"i live in texas , what kind of stuff do you do in \"], \"history\": [\"hi , how are you doing ? i\\'m getting ready to do some cheetah chasing to stay in shape .\", \"you must be very fast . hunting is one of my favorite hobbies .\", \"i am ! for my hobby i like to do canning or some whittling .\", \"i also remodel homes when i am not out bow hunting .\", \"that\\'s neat . when i was in high school i placed 6th in 100m dash !\"]}]}, {\"personality\": [\"i like to remodel homes .\", \"i like to go hunting .\", \"i like to shoot a bow .\", \"my favorite holiday is halloween .\"], \"utterances\": [{\"candidates\": [\"my mom was single with 3 boys , so we never left the projects .\", \"i try to wear all black every day . it makes me feel comfortable .\", \"well nursing stresses you out so i wish luck with sister\"], \"history\": [\"hi , how are you doing ? i\\'m getting ready to do some cheetah chasing to stay in shape .\"]}, {\"candidates\": [\"hello i am doing well how are you ?\", \"ll something like that . do you play games ?\", \"does anything give you relief ? i hate taking medicine \"], \"history\": [\"hi , how are you doing ? i\\'m getting ready to do some cheetah chasing to stay in shape .\", \"you must be very fast . hunting is one of my favorite hobbies .\", \"i am ! for my hobby i like to do canning or some whittling .\"]}, {\"candidates\": [\"yes they do but i say no to them lol\", \"i have trouble getting along with family .\", \"i live in texas , what kind of stuff do you do in \"], \"history\": [\"hi , how are you doing ? i\\'m getting ready to do some cheetah chasing to stay in shape .\", \"you must be very fast . hunting is one of my favorite hobbies .\", \"i am ! for my hobby i like to do canning or some whittling .\", \"i also remodel homes when i am not out bow hunting .\", \"that\\'s neat . when i was in high school i placed 6th in 100m dash !\"]}]}], \"valid\": [{\"personality\": [\"i like to remodel homes .\", \"i like to go hunting .\", \"i like to shoot a bow .\", \"my favorite holiday is halloween .\"], \"utterances\": [{\"candidates\": [\"my mom was single with 3 boys , so we never left the projects .\", \"i try to wear all black every day . it makes me feel comfortable .\", \"well nursing stresses you out so i wish luck with sister\"], \"history\": [\"hi , how are you doing ? i\\'m getting ready to do some cheetah chasing to stay in shape .\"]}, {\"candidates\": [\"hello i am doing well how are you ?\", \"ll something like that . do you play games ?\", \"does anything give you relief ? i hate taking medicine \"], \"history\": [\"hi , how are you doing ? i\\'m getting ready to do some cheetah chasing to stay in shape .\", \"you must be very fast . hunting is one of my favorite hobbies .\", \"i am ! for my hobby i like to do canning or some whittling .\"]}, {\"candidates\": [\"yes they do but i say no to them lol\", \"i have trouble getting along with family .\", \"i live in texas , what kind of stuff do you do in \"], \"history\": [\"hi , how are you doing ? i\\'m getting ready to do some cheetah chasing to stay in shape .\", \"you must be very fast . hunting is one of my favorite hobbies .\", \"i am ! for my hobby i like to do canning or some whittling .\", \"i also remodel homes when i am not out bow hunting .\", \"that\\'s neat . when i was in high school i placed 6th in 100m dash !\"]}]}, {\"personality\": [\"i like to remodel homes .\", \"i like to go hunting .\", \"i like to shoot a bow .\", \"my favorite holiday is halloween .\"], \"utterances\": [{\"candidates\": [\"my mom was single with 3 boys , so we never left the projects .\", \"i try to wear all black every day . it makes me feel comfortable .\", \"well nursing stresses you out so i wish luck with sister\"], \"history\": [\"hi , how are you doing ? i\\'m getting ready to do some cheetah chasing to stay in shape .\"]}, {\"candidates\": [\"hello i am doing well how are you ?\", \"ll something like that . do you play games ?\", \"does anything give you relief ? i hate taking medicine \"], \"history\": [\"hi , how are you doing ? i\\'m getting ready to do some cheetah chasing to stay in shape .\", \"you must be very fast . hunting is one of my favorite hobbies .\", \"i am ! for my hobby i like to do canning or some whittling .\"]}, {\"candidates\": [\"yes they do but i say no to them lol\", \"i have trouble getting along with family .\", \"i live in texas , what kind of stuff do you do in \"], \"history\": [\"hi , how are you doing ? i\\'m getting ready to do some cheetah chasing to stay in shape .\", \"you must be very fast . hunting is one of my favorite hobbies .\", \"i am ! for my hobby i like to do canning or some whittling .\", \"i also remodel homes when i am not out bow hunting .\", \"that\\'s neat . when i was in high school i placed 6th in 100m dash !\"]}]}]}'"
      ]
     },
     "execution_count": 83,
     "metadata": {},
     "output_type": "execute_result"
    }
   ],
   "source": [
    "test = {\"train\": [EXAMPLE_ENTRY]*3, \"valid\": [EXAMPLE_ENTRY]*2}\n",
    "test = json.dumps(test)\n",
    "test"
   ]
  },
  {
   "cell_type": "code",
   "execution_count": 84,
   "id": "molecular-quarterly",
   "metadata": {
    "collapsed": true,
    "jupyter": {
     "outputs_hidden": true,
     "source_hidden": true
    }
   },
   "outputs": [
    {
     "data": {
      "text/plain": [
       "7002"
      ]
     },
     "execution_count": 84,
     "metadata": {},
     "output_type": "execute_result"
    }
   ],
   "source": [
    "with open(\"./counsel_chat_data.json\", \"w\") as f:\n",
    "    f.write(test)"
   ]
  },
  {
   "cell_type": "markdown",
   "id": "breeding-english",
   "metadata": {},
   "source": [
    "### Saving Actual Data"
   ]
  },
  {
   "cell_type": "code",
   "execution_count": 26,
   "id": "bulgarian-channel",
   "metadata": {},
   "outputs": [
    {
     "data": {
      "text/plain": [
       "781166"
      ]
     },
     "execution_count": 26,
     "metadata": {},
     "output_type": "execute_result"
    }
   ],
   "source": [
    "df_final_json = json.dumps(df_final)\n",
    "with open(\"./datasets/counsel_chat_data_250-maxlen.json\", \"w\") as f:\n",
    "    f.write(df_final_json)"
   ]
  },
  {
   "cell_type": "code",
   "execution_count": null,
   "id": "handmade-divorce",
   "metadata": {},
   "outputs": [],
   "source": []
  }
 ],
 "metadata": {
  "kernelspec": {
   "display_name": "Python [conda env:inspirit-ai]",
   "language": "python",
   "name": "conda-env-inspirit-ai-py"
  },
  "language_info": {
   "codemirror_mode": {
    "name": "ipython",
    "version": 3
   },
   "file_extension": ".py",
   "mimetype": "text/x-python",
   "name": "python",
   "nbconvert_exporter": "python",
   "pygments_lexer": "ipython3",
   "version": "3.8.5"
  }
 },
 "nbformat": 4,
 "nbformat_minor": 5
}
